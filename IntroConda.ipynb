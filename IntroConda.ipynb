{
 "cells": [
  {
   "cell_type": "markdown",
   "metadata": {
    "slideshow": {
     "slide_type": "slide"
    }
   },
   "source": [
    "# Outline\n",
    "* [Motivation: why environments and conda](#Motivation)\n",
    "* [conda vs virtualenv vs pip](#Python-Environments)\n",
    "\n",
    "* [Anaconda Python Distribution](#Anaconda-Python-Distribution)\n",
    "* [Setting up your environment](#Setting-up-your-environment)\n",
    "\t* [Working with `conda`](#Working-with-conda)\n",
    "\t\t* [Basic conda commands](#Basic-conda-commands)\n",
    "\t\t* [Managing environments](#Manage-environments-with-conda)\n",
    "\t\t* [Environment files](#Environment-files)\n",
    "\t* [Examples and documentation](#More-examples-and-documentation)"
   ]
  },
  {
   "cell_type": "markdown",
   "metadata": {
    "slideshow": {
     "slide_type": "slide"
    }
   },
   "source": [
    "# Motivation\n",
    "\n",
    "<img src=\"img/conda_env.png\" width=\"50%\" align=\"center\"> \n",
    "\n",
    "* separate dependencies for each project (avoid dependency conflicts)\n",
    "* reproduce dev/prod environment easily (few commands)\n",
    "* enables experimentation"
   ]
  },
  {
   "cell_type": "markdown",
   "metadata": {
    "slideshow": {
     "slide_type": "slide"
    }
   },
   "source": [
    "# Python Environments\n",
    "\n",
    "### [`virtualenv` vs `pip`  vs   `conda`]( http://conda.pydata.org/docs/_downloads/conda-pip-virtualenv-translator.html)\n",
    "\n",
    "* pip is a package manager, and Virtualenv is an environment manager. Conda is both.\n",
    "* binary dependencies (C++/C/Cython libraries) work well with conda"
   ]
  },
  {
   "cell_type": "markdown",
   "metadata": {
    "slideshow": {
     "slide_type": "slide"
    }
   },
   "source": [
    "# [Anaconda](http://continuum.io/anaconda) Python distribution\n",
    "\n",
    "- Environment and package management (`conda env`, `conda`)\n",
    "- Easy to create, reproduce, share environments\n",
    "- Work in multiple python versions simultaneously\n",
    "- Manages binary dependencies (ie isolate runtime libraries)\n",
    "- [Several hundred packages](http://docs.continuum.io/anaconda/pkg-docs) used in science, math, engineering, data analysis applications\n",
    "- runs on Linux, Mac OS, Windows in _almost the same way_\n",
    "- Language-agnostic: can be used on projects with other languages\n",
    "    - [C++/C](https://beta.anaconda.org/search?q=cpp)\n",
    "    - [java](https://beta.anaconda.org/search?q=java)\n",
    "    - [Julia](https://beta.anaconda.org/search?q=julia)\n",
    "- Open source, community driven, well supported, lots of packages"
   ]
  },
  {
   "cell_type": "markdown",
   "metadata": {
    "slideshow": {
     "slide_type": "slide"
    }
   },
   "source": [
    "# Miniconda vs Anaconda\n",
    "\n",
    "- Both contain python distribution and conda package manager\n",
    "- Anaconda also installs about 150 packages including numpy, scipy, jupyter notebook ..\n",
    "\n",
    "# Miniconda 3 vs Miniconda 2\n",
    "- Miniconda 2.x runs in Python 2.x while Miniconda 3.x runs in Python 3.x\n",
    "- Both support creating Python 2.x or 3.x environments"
   ]
  },
  {
   "cell_type": "markdown",
   "metadata": {
    "slideshow": {
     "slide_type": "slide"
    }
   },
   "source": [
    "# Setting up your environment\n",
    "\n",
    "1. Mac OS X - use `Terminal` or [iTerm](https://www.iterm2.com/) on Mac OS X\n",
    "\n",
    "2. Windows - use the `cmd` prompt or `cygwin` or the `Anaconda Prompt`. <br>\n",
    "   Windows PowerShell may work though it is not officially supported.\n",
    "   \n",
    "3. Terminal starts in `root` conda environment"
   ]
  },
  {
   "cell_type": "markdown",
   "metadata": {
    "slideshow": {
     "slide_type": "slide"
    }
   },
   "source": [
    "## Working with `conda`\n",
    "- [Basic conda commands](#Basic-conda-commands)\n",
    "    - [Example output](#Example output)\n",
    "\n",
    "- [Manage Environments](##Manage-environments-with-conda)\n",
    "    - [Create](#Create-environment)\n",
    "    - [Activate](#Activate-environment)\n",
    "    - [Deactivate](#Deactivate-environment)\n",
    "\n",
    "- [Environment files](#Environment-files)\n",
    "- [More examples and documentation](#More-examples-and-documentation)"
   ]
  },
  {
   "cell_type": "markdown",
   "metadata": {
    "slideshow": {
     "slide_type": "slide"
    }
   },
   "source": [
    "### Basic conda commands\n",
    "\n",
    "Command    | Operation\n",
    ":----------|:----------------\n",
    "[`conda env list`](#conda-env-list) | list conda environments\n",
    "[`conda list`](#conda-list) | list packages in active conda environment\n",
    "[`conda remove <package-name`](#conda-remove) | remove a package\n",
    "[`conda install  <package-name>`](#conda-install) | install or upgrade a conda package\n",
    "[`conda update <package-name>`](#conda-update) | update specified conda package\n",
    "[`conda update conda` <br>`conda update anaconda`](#conda-update-conda) | use conda to update conda"
   ]
  },
  {
   "cell_type": "markdown",
   "metadata": {
    "slideshow": {
     "slide_type": "slide"
    }
   },
   "source": [
    "### `Example output`\n",
    "\n",
    "#### `conda env list`\n",
    "\n",
    "```bash\n",
    "% conda env list\n",
    "# conda environments:\n",
    "#\n",
    "root                  *  /Users/albert/Applications/anaconda3\n",
    "\n",
    "```\n",
    "\n",
    "#### `conda list`\n",
    "\n",
    "- Versions are determined on the date of the Anaconda release.\n",
    "\n",
    "```bash\n",
    "% conda list\n",
    "# packages in environment at /Users/albert/Applications/anaconda3:\n",
    "#\n",
    "You are using pip version 7.0.3, however version 7.1.2 is available.\n",
    "You should consider upgrading via the 'pip install --upgrade pip' command.\n",
    "_license                  1.1                      py34_0  \n",
    "abstract-rendering        0.5.1                np19py34_0  \n",
    "alabaster                 0.7.3                    py34_0  \n",
    "anaconda                  2.3.0                np19py34_0  \n",
    "appscript                 1.0.1                    py34_0  \n",
    "argcomplete               0.8.9                    py34_0  \n",
    "astropy                   1.0.3                np19py34_0  \n",
    "babel                     1.3                      py34_0  \n",
    "...\n",
    "xlsxwriter                0.7.3                    py34_0  \n",
    "xlwings                   0.3.5                    py34_0  \n",
    "xlwt                      1.0.0                    py34_0  \n",
    "xz                        5.0.5                         0  \n",
    "yaml                      0.1.6                         0  \n",
    "zeromq                    4.0.5                         0  \n",
    "zlib                      1.2.8                         0 \n",
    "```\n",
    "\n",
    "#### `conda update`\n",
    "\n",
    "```bash\n",
    "% conda update hdf5\n",
    "Fetching package metadata: ..............\n",
    "Solving package specifications: ......\n",
    "Package plan for installation in environment /Users/jsandhu/miniconda/envs/coursebuild:\n",
    "\n",
    "The following packages will be downloaded:\n",
    "\n",
    "    package                    |            build\n",
    "    ---------------------------|-----------------\n",
    "    hdf5-1.8.16                |                0         1.7 MB  defaults\n",
    "\n",
    "The following packages will be UPDATED:\n",
    "\n",
    "    hdf5: 1.8.15.1-2 defaults --> 1.8.16-0 defaults\n",
    "\n",
    "Proceed ([y]/n)? n\n",
    "```\n",
    "\n",
    "#### `conda remove`\n",
    "\n",
    "```bash\n",
    "% conda remove hdf5\n",
    "Fetching package metadata: ..............\n",
    "\n",
    "Package plan for package removal in environment /Users/jsandhu/miniconda/envs/coursebuild:\n",
    "\n",
    "The following packages will be REMOVED:\n",
    "\n",
    "    hdf5: 1.8.15.1-2 defaults\n",
    "\n",
    "Proceed ([y]/n)? n\n",
    "\n",
    "```\n",
    "\n",
    "#### `conda install`\n",
    "```bash\n",
    "% conda install hdf5\n",
    "Fetching package metadata: ..............\n",
    "Solving package specifications: ......\n",
    "Package plan for installation in environment /Users/jsandhu/miniconda/envs/coursebuild:\n",
    "\n",
    "The following packages will be downloaded:\n",
    "\n",
    "    package                    |            build\n",
    "    ---------------------------|-----------------\n",
    "    hdf5-1.8.16                |                0         1.7 MB  defaults\n",
    "\n",
    "The following packages will be UPDATED:\n",
    "\n",
    "    hdf5: 1.8.15.1-2 defaults --> 1.8.16-0 defaults\n",
    "\n",
    "Proceed ([y]/n)? n\n",
    "```\n",
    "\n",
    "#### `conda update conda`\n",
    "\n",
    "```bash\n",
    "% conda update conda\n",
    "% conda update anaconda\n",
    "```\n",
    "\n",
    "- New package versions will be downloaded and installed into the root environment\n",
    "- The minor python version will not be upgraded\n",
    "- Updating Anaconda will not upgrade from Python 2.7 to Python 3 or from Python 3.4 to Python 3.5. \n",
    "- Best option may be to create a separate `conda` environment if this is desired\n"
   ]
  },
  {
   "cell_type": "markdown",
   "metadata": {
    "slideshow": {
     "slide_type": "slide"
    }
   },
   "source": [
    "### Manage environments with conda\n",
    "\n",
    "Command    | Operation\n",
    ":----------|:----------------\n",
    "[`conda create -n <env_name>`](#Create-environment) | create a new conda environment\n",
    "[`source activate <env_name>`](#Activate-environment) <br> [`activate <env_name>`](#Activating-environment) | activate environent\n",
    "[`source deactivate`](#Deactivate-environment) <br> [`deactivate`](#Deactivating-environment) | deactivate current environment\n",
    "`conda env remove -n <env_name>` | remove `<env_name>` conda environment\n"
   ]
  },
  {
   "cell_type": "markdown",
   "metadata": {
    "slideshow": {
     "slide_type": "slide"
    }
   },
   "source": [
    "### Create environment\n",
    "\n",
    "Create a `conda` environment and specify particular package version as follows:\n",
    "\n",
    "```bash\n",
    "% conda create -n py35 python=3.5 jupyter\n",
    "```\n",
    "\n",
    "- creates an isolated environment called py35 with python 3.5 and associated dependencies in `${CONDA_INSTALL_PATH}/envs`\n",
    "- downloads and installs required dependencies including binary (library) dependencies for jupyter in `${CONDA_INSTALL_PATH}/envs/py35`"
   ]
  },
  {
   "cell_type": "markdown",
   "metadata": {
    "slideshow": {
     "slide_type": "slide"
    }
   },
   "source": [
    "### Activate environment\n",
    "\n",
    "**Linux and Mac OS X**\n",
    "```bash\n",
    "% source activate py35 \n",
    "(py35)% # The prompt changed to reflect new environment has loaded\n",
    "```\n",
    "\n",
    "**Windows Terminal**\n",
    "```\n",
    "C:\\Users\\jasmine> activate py35 \n",
    "Activating environemnt \"C:\\Miniconda3\\envs\\py35\"...\n",
    "\n",
    "[coursework] C:\\Users\\albert>\n",
    "```\n",
    "\n",
    "**Windows Cygwin terminal**\n",
    "```\n",
    "(py2)\n",
    "IEUser@IE11Win7 MINGW32 ~\n",
    "$\n",
    "\n",
    "```"
   ]
  },
  {
   "cell_type": "markdown",
   "metadata": {
    "slideshow": {
     "slide_type": "slide"
    }
   },
   "source": [
    "### Deactivate environment\n",
    "\n",
    "**Linux and Mac OS X**\n",
    "```bash\n",
    "(coursework)% source deactivate\n",
    "%  # The prompt returned to normal after environment is shut down.\n",
    "```\n",
    "\n",
    "**Windows**\n",
    "```\n",
    "[coursework] C:\\Users/albert> deactivate\n",
    "Dectivating environemnt \"C:\\Anaconda3\\envs\\coursework\"...\n",
    "\n",
    "C:\\Users\\albert>\n",
    "```"
   ]
  },
  {
   "cell_type": "markdown",
   "metadata": {
    "slideshow": {
     "slide_type": "slide"
    }
   },
   "source": [
    "\n",
    "## Other useful `conda` commands\n",
    "\n",
    "\n",
    "`conda info`, `conda search`, `conda list` "
   ]
  },
  {
   "cell_type": "markdown",
   "metadata": {
    "slideshow": {
     "slide_type": "slide"
    }
   },
   "source": [
    "### Environment files\n",
    "\n",
    "* Automating environment creation and sharing environments\n",
    "* File below named `environment.yml` specifies a `conda` environment called `sample_tutorial`\n",
    "\n",
    "```bash\n",
    "$ cat environment.yml\n",
    "name: sample_tutorial\n",
    "dependencies:\n",
    "  - python=3.5\n",
    "  - pandas\n",
    "  - bokeh\n",
    "  - blaze\n",
    "  - jupyter\n",
    "  - numpy\n",
    "```\n",
    "\n",
    "* Create the environment from the `environment.yml` file in CWD:\n",
    "\n",
    "```bash\n",
    "% conda env create \n",
    "```\n",
    "\n",
    "* Current `conda` environment can be exported to a yaml file and shared.\n",
    "\n",
    "```bash\n",
    "% conda env export > freeze.yml\n",
    "```\n",
    "\n",
    "* A specific yaml file can be used to create an environment by using the `-f` flag.\n",
    "\n",
    "```bash\n",
    "% conda env create -f freeze.yml\n",
    "```"
   ]
  },
  {
   "cell_type": "markdown",
   "metadata": {
    "slideshow": {
     "slide_type": "slide"
    }
   },
   "source": [
    "## Run through CythonExample"
   ]
  },
  {
   "cell_type": "markdown",
   "metadata": {
    "slideshow": {
     "slide_type": "slide"
    }
   },
   "source": [
    "# More examples and documentation\n",
    "\n",
    "```\n",
    "% conda install -y numpy\n",
    "```\n",
    "\n",
    "Many [PyPI](https://pypi.python.org/pypi) packages available with `pip` may not be directly available from `conda`.\n",
    "\n",
    "These packages can be installed in current `conda` environment using `pip`.\n",
    "\n",
    "```\n",
    "% pip install memory_profiler\n",
    "```\n",
    "\n",
    "For a more examples of what `conda` can do for you, please consult\n",
    "+ [TestDrive](http://conda.pydata.org/docs/test-drive.html)\n",
    "+ the [`conda` documentation](http://conda.pydata.org/docs/index.html)\n",
    "+ conda [CheatSheet](http://conda.pydata.org/docs/_downloads/conda-cheatsheet.pdf)\n",
    "+ Christine Doig's post [Conda for Data Science](http://continuum.io/blog/conda-data-science)\n",
    "+ [Docker + Miniconda = Perfect Match](http://pythonwise.blogspot.com/2015/04/docker-miniconda-perfect-match.html)"
   ]
  },
  {
   "cell_type": "code",
   "execution_count": null,
   "metadata": {
    "collapsed": true
   },
   "outputs": [],
   "source": []
  }
 ],
 "metadata": {
  "celltoolbar": "Slideshow",
  "continuum": {
   "depends": [],
   "requires": [
    "img/python-version.png"
   ],
   "tag": "ip_conda"
  },
  "kernelspec": {
   "display_name": "Python 3",
   "language": "python",
   "name": "python3"
  },
  "language_info": {
   "codemirror_mode": {
    "name": "ipython",
    "version": 3
   },
   "file_extension": ".py",
   "mimetype": "text/x-python",
   "name": "python",
   "nbconvert_exporter": "python",
   "pygments_lexer": "ipython3",
   "version": "3.5.1"
  }
 },
 "nbformat": 4,
 "nbformat_minor": 0
}
